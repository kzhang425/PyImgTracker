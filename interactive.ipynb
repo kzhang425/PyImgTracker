{
 "cells": [
  {
   "cell_type": "markdown",
   "id": "496e59bc-d02e-4045-abbc-59896e8a7feb",
   "metadata": {},
   "source": [
    "# **TrackPy for Baker Lab**\n",
    "---"
   ]
  },
  {
   "cell_type": "markdown",
   "id": "f5b0c72f-3f27-4755-beda-3da39ca21143",
   "metadata": {},
   "source": [
    "### Setup\n",
    "\n",
    "There are other Python scripts in this directory that are used for this interactive portion. Start by importing them and this is a very important step. Otherwise, the <mark>downstream processes will fail!</mark>\n",
    "For which code fragments to run, look for the \"REQUIRED\" tag in the comments. If there is one, please run them in order."
   ]
  },
  {
   "cell_type": "code",
   "execution_count": 9,
   "id": "634ea024-e5cc-4942-820b-912e55e79355",
   "metadata": {
    "tags": []
   },
   "outputs": [],
   "source": [
    "# *REQUIRED*\n",
    "# DO NOT CHANGE OR ELSE DEPENDENCIES WILL FAIL\n",
    "import ipyfilechooser\n",
    "import trackpy\n",
    "import pims\n",
    "import nd2\n",
    "import numpy\n",
    "import menu\n",
    "import ipywidgets as widgets\n",
    "from ipywidgets import interact"
   ]
  },
  {
   "cell_type": "markdown",
   "id": "0db8c3f0-161b-4d7a-ac22-63130b3eb1e2",
   "metadata": {},
   "source": [
    "To read in the file, run the block below and a widget will pop up, allowing you to pick the file for analysis."
   ]
  },
  {
   "cell_type": "code",
   "execution_count": 7,
   "id": "a2b68084-038f-4c81-8bb3-dc6be11168ba",
   "metadata": {},
   "outputs": [
    {
     "data": {
      "application/vnd.jupyter.widget-view+json": {
       "model_id": "dc92cc6def5b433dbd36fb1c1b7f58d7",
       "version_major": 2,
       "version_minor": 0
      },
      "text/plain": [
       "FileChooser(path='C:\\Users\\richa\\PycharmProjects\\PyImgTracker', filename='', title='', show_hidden=False, sele…"
      ]
     },
     "metadata": {},
     "output_type": "display_data"
    }
   ],
   "source": [
    "# *REQUIRED*\n",
    "# DO NOT CHANGE THESE LINES OR ELSE FILE READING WILL FAIL\n",
    "fc = ipyfilechooser.FileChooser()\n",
    "display(fc)"
   ]
  },
  {
   "cell_type": "code",
   "execution_count": 14,
   "id": "f4fc279b-7aad-465c-bd22-ee3d43c8a85e",
   "metadata": {},
   "outputs": [],
   "source": [
    "# Just run this block\n",
    "filepath = fc.selected_path + '\\\\' + fc.selected_filename\n",
    "if filepath[-4:] == '.nd2':\n",
    "    # Handle nikon filetypes\n",
    "    handler = menu.Handler(nd2.imread(filepath))\n",
    "else:\n",
    "    handler = menu.Handler(pims.open(filepath))"
   ]
  },
  {
   "cell_type": "markdown",
   "id": "62259383-e718-4b51-bf13-213343cba5e1",
   "metadata": {},
   "source": [
    "Now, hopefully the \"handler\" variable has captured the image stack and holds it in memory. We can now proceed with downstream processes if it was successful. For multi-channel inputs, the default channel is the first one and depends on how the data collection was set up. <br>\n",
    "You can change the channel to the one you want by changing the \"channel\" variable below. Please don't change anything else as this program is fragile and <mark>you may hurt its feelings.</mark>"
   ]
  },
  {
   "cell_type": "code",
   "execution_count": 15,
   "id": "5d6a8aed-64f5-4a5c-a24c-79cafabfd946",
   "metadata": {},
   "outputs": [
    {
     "name": "stdout",
     "output_type": "stream",
     "text": [
      "Channel successfully changed.\n"
     ]
    }
   ],
   "source": [
    "# OPTIONAL, RUN THIS BLOCK AND CHANGE CHANNEL BY CHANGING THE VARIABLE BELOW\n",
    "channel = 0  # you can change this variable. Usually, there are only channels 0, 1, or 2.\n",
    "\n",
    "# DO NOT CHANGE ANYTHING BELOW\n",
    "handler.change_channel(channel)"
   ]
  },
  {
   "cell_type": "markdown",
   "id": "3ce7cd19-7233-42be-a0cf-574ea7432cf6",
   "metadata": {},
   "source": [
    "Now, we can verify whether the images have been read. Here, we show the images on a slider."
   ]
  },
  {
   "cell_type": "code",
   "execution_count": 16,
   "id": "b168d58d-3263-4ce0-bba4-c9d9eed67866",
   "metadata": {},
   "outputs": [
    {
     "data": {
      "application/vnd.jupyter.widget-view+json": {
       "model_id": "53a2e4efbfc84a6692c6723e66263286",
       "version_major": 2,
       "version_minor": 0
      },
      "text/plain": [
       "interactive(children=(IntSlider(value=15, description='frame', max=30), Output()), _dom_classes=('widget-inter…"
      ]
     },
     "metadata": {},
     "output_type": "display_data"
    }
   ],
   "source": [
    "# DO NOT CHANGE ANYTHING, JUST RUN\n",
    "length = handler.count\n",
    "@interact(frame=(0, length-1))\n",
    "def show(frame):\n",
    "    handler.show_frame_more_contrast(frame)"
   ]
  },
  {
   "cell_type": "markdown",
   "id": "55932658-467b-47e3-b79b-4314ffc0b402",
   "metadata": {},
   "source": [
    "If you want to view these images in higher (and better) contrast in Napari, run this segment of code.\n",
    "Special thanks to the Napari project for making this easy-to-use viewer that can be used with Python!\n",
    "\n",
    "\n",
    "NOTE: This will open in a separate window, look for an icon that looks like a bean in the system tray.\n",
    "\n",
    "\n",
    "napari contributors (2019). napari: a multi-dimensional image viewer for python. <br>\n",
    "[doi:10.5281/zenodo.3555620](doi:10.5281/zenodo.3555620)\n"
   ]
  },
  {
   "cell_type": "code",
   "execution_count": 17,
   "id": "4cea4021-c348-4a7b-8921-2180921254c8",
   "metadata": {},
   "outputs": [],
   "source": [
    "# OPTIONAL, DON'T CHANGE CODE BELOW\n",
    "handler.show_frame_napari()"
   ]
  },
  {
   "cell_type": "markdown",
   "id": "43570a91-e799-4067-ab96-2e391967e0d6",
   "metadata": {},
   "source": [
    "---"
   ]
  },
  {
   "cell_type": "markdown",
   "id": "bd875986-b44d-4135-a15e-e103fd59f560",
   "metadata": {},
   "source": [
    "### Finding Particles\n",
    "\n",
    "After reading in the file, now it is time to do useful things like finding the particles in the image stack. The cell directly below <mark>can be changed and you should change it</mark>. This is a form of refining how well the algorithm can identify the particles."
   ]
  },
  {
   "cell_type": "code",
   "execution_count": 1,
   "id": "cd66fd97-6659-4081-a656-4dfefc205fda",
   "metadata": {},
   "outputs": [
    {
     "ename": "SyntaxError",
     "evalue": "incomplete input (3177543249.py, line 11)",
     "output_type": "error",
     "traceback": [
      "\u001b[1;36m  Cell \u001b[1;32mIn [1], line 11\u001b[1;36m\u001b[0m\n\u001b[1;33m    handler.find_features(handler.channel,\u001b[0m\n\u001b[1;37m                                           ^\u001b[0m\n\u001b[1;31mSyntaxError\u001b[0m\u001b[1;31m:\u001b[0m incomplete input\n"
     ]
    }
   ],
   "source": [
    "# CAN CHANGE THESE VARIABLES HERE, REPEATABLE\n",
    "diameter = 12  # Must be odd and make an estimate in terms of pixels\n",
    "multithreading = True  # Make False if you do not wish to do multi-core processing\n",
    "invert = False  # Make True if the features are darker than the background\n",
    "minmass = 20  # A guess\n",
    "save_to_file = False  # Set to true if you want a csv of the coordinates in the same directory\n",
    "\n",
    "if diameter % 2 == 0:\n",
    "    print(\"Diameter must be odd, please input an odd diameter value. If in doubt, round up.\")\n",
    "else:\n",
    "    handler.find_features(handler.channel, diameter, \n"
   ]
  },
  {
   "cell_type": "code",
   "execution_count": null,
   "id": "632cab8a-9349-4e82-9455-db29acb0eb4b",
   "metadata": {},
   "outputs": [],
   "source": []
  }
 ],
 "metadata": {
  "kernelspec": {
   "display_name": "Python 3 (ipykernel)",
   "language": "python",
   "name": "python3"
  },
  "language_info": {
   "codemirror_mode": {
    "name": "ipython",
    "version": 3
   },
   "file_extension": ".py",
   "mimetype": "text/x-python",
   "name": "python",
   "nbconvert_exporter": "python",
   "pygments_lexer": "ipython3",
   "version": "3.10.4"
  }
 },
 "nbformat": 4,
 "nbformat_minor": 5
}
