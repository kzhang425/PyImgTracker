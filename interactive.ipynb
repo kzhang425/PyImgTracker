{
 "cells": [
  {
   "cell_type": "markdown",
   "id": "496e59bc-d02e-4045-abbc-59896e8a7feb",
   "metadata": {},
   "source": [
    "# **TrackPy for Baker Lab**\n",
    "---"
   ]
  },
  {
   "cell_type": "markdown",
   "id": "f5b0c72f-3f27-4755-beda-3da39ca21143",
   "metadata": {},
   "source": [
    "### Setup\n",
    "\n",
    "There are other Python scripts in this directory that are used for this interactive portion. Start by importing them and this is a very important step. Otherwise, the <mark>downstream processes will fail!</mark>\n",
    "For which code fragments to run, look for the \"REQUIRED\" tag in the comments. If there is one, please run them in order."
   ]
  },
  {
   "cell_type": "code",
   "execution_count": 9,
   "id": "634ea024-e5cc-4942-820b-912e55e79355",
   "metadata": {
    "tags": []
   },
   "outputs": [],
   "source": [
    "# *REQUIRED*\n",
    "# DO NOT CHANGE OR ELSE DEPENDENCIES WILL FAIL\n",
    "import trackpy\n",
    "import pims\n",
    "import nd2\n",
    "import numpy\n",
    "import menu\n",
    "import tkinter as tk\n",
    "from tkinter import filedialog as fd\n",
    "import ipywidgets as widgets\n",
    "from ipywidgets import interact"
   ]
  },
  {
   "cell_type": "markdown",
   "id": "0db8c3f0-161b-4d7a-ac22-63130b3eb1e2",
   "metadata": {},
   "source": [
    "Open a file dialogue that will (hopefully) read in the microscopy images for analysis."
   ]
  },
  {
   "cell_type": "code",
   "execution_count": 10,
   "id": "a2b68084-038f-4c81-8bb3-dc6be11168ba",
   "metadata": {},
   "outputs": [],
   "source": [
    "# *REQUIRED*\n",
    "# DO NOT CHANGE THESE LINES OR ELSE FILE READING WILL FAIL\n",
    "root = tk.Tk()\n",
    "root.withdraw()\n",
    "filepath = fd.askopenfilename()\n",
    "root.destroy()\n",
    "if filepath[-4:] == '.nd2':\n",
    "    # Handle nikon filetypes\n",
    "    handler = menu.Handler(nd2.imread(filepath))\n",
    "else:\n",
    "    handler = menu.Handler(pims.open(filepath))"
   ]
  },
  {
   "cell_type": "markdown",
   "id": "62259383-e718-4b51-bf13-213343cba5e1",
   "metadata": {},
   "source": [
    "Now, hopefully the \"handler\" variable has captured the image stack and holds it in memory. We can now proceed with downstream processes if it was successful. For multi-channel inputs, the default channel is the first one and depends on how the data collection was set up. <br>\n",
    "You can change the channel to the one you want by changing the \"channel\" variable below. Please don't change anything else as this program is fragile and <mark>you may hurt its feelings.</mark>"
   ]
  },
  {
   "cell_type": "code",
   "execution_count": 11,
   "id": "5d6a8aed-64f5-4a5c-a24c-79cafabfd946",
   "metadata": {},
   "outputs": [
    {
     "name": "stdout",
     "output_type": "stream",
     "text": [
      "Channel successfully changed.\n"
     ]
    }
   ],
   "source": [
    "# OPTIONAL, RUN THIS BLOCK AND CHANGE CHANNEL BY CHANGING THE VARIABLE BELOW\n",
    "channel = 0\n",
    "\n",
    "# DO NOT CHANGE ANYTHING BELOW\n",
    "handler.change_channel(channel)"
   ]
  },
  {
   "cell_type": "markdown",
   "id": "3ce7cd19-7233-42be-a0cf-574ea7432cf6",
   "metadata": {},
   "source": [
    "Now, we can verify whether the images have been read. Here, we show the images on a slider."
   ]
  },
  {
   "cell_type": "code",
   "execution_count": 12,
   "id": "b168d58d-3263-4ce0-bba4-c9d9eed67866",
   "metadata": {},
   "outputs": [
    {
     "data": {
      "application/vnd.jupyter.widget-view+json": {
       "model_id": "1926b73b919a4a73b47b0cecb0aaadaf",
       "version_major": 2,
       "version_minor": 0
      },
      "text/plain": [
       "interactive(children=(IntSlider(value=15, description='x', max=30), Output()), _dom_classes=('widget-interact'…"
      ]
     },
     "metadata": {},
     "output_type": "display_data"
    }
   ],
   "source": [
    "# DO NOT CHANGE ANYTHING, JUST RUN\n",
    "length = handler.count\n",
    "@interact(x=(0, length-1))\n",
    "def show(x):\n",
    "    handler.show_frame(x)"
   ]
  },
  {
   "cell_type": "markdown",
   "id": "43570a91-e799-4067-ab96-2e391967e0d6",
   "metadata": {},
   "source": [
    "---"
   ]
  },
  {
   "cell_type": "markdown",
   "id": "bd875986-b44d-4135-a15e-e103fd59f560",
   "metadata": {},
   "source": [
    "### Finding Particles\n",
    "\n",
    "After reading in the file, now it is time to do useful things like finding the particles in the image stack."
   ]
  },
  {
   "cell_type": "code",
   "execution_count": null,
   "id": "cd66fd97-6659-4081-a656-4dfefc205fda",
   "metadata": {},
   "outputs": [],
   "source": []
  }
 ],
 "metadata": {
  "kernelspec": {
   "display_name": "Python 3 (ipykernel)",
   "language": "python",
   "name": "python3"
  },
  "language_info": {
   "codemirror_mode": {
    "name": "ipython",
    "version": 3
   },
   "file_extension": ".py",
   "mimetype": "text/x-python",
   "name": "python",
   "nbconvert_exporter": "python",
   "pygments_lexer": "ipython3",
   "version": "3.10.4"
  }
 },
 "nbformat": 4,
 "nbformat_minor": 5
}
