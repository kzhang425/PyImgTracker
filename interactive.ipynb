{
 "cells": [
  {
   "cell_type": "markdown",
   "id": "496e59bc-d02e-4045-abbc-59896e8a7feb",
   "metadata": {},
   "source": [
    "# **TrackPy for Baker Lab**"
   ]
  },
  {
   "cell_type": "markdown",
   "id": "f5b0c72f-3f27-4755-beda-3da39ca21143",
   "metadata": {},
   "source": [
    "### Setup\n",
    "\n",
    "There are other Python scripts in this directory that are used for this interactive portion. Start by importing them and this is a very important step. Otherwise, the <mark>downstream processes will fail!</mark>"
   ]
  },
  {
   "cell_type": "code",
   "execution_count": 11,
   "id": "634ea024-e5cc-4942-820b-912e55e79355",
   "metadata": {
    "tags": []
   },
   "outputs": [],
   "source": [
    "import trackpy\n",
    "import pims\n",
    "import nd2\n",
    "import numpy\n",
    "import menu\n",
    "import tkinter as tk\n",
    "from tkinter import filedialog as fd"
   ]
  },
  {
   "cell_type": "markdown",
   "id": "0db8c3f0-161b-4d7a-ac22-63130b3eb1e2",
   "metadata": {},
   "source": [
    "Open a file dialogue that will (hopefully) read in the microscopy images for analysis."
   ]
  },
  {
   "cell_type": "code",
   "execution_count": 12,
   "id": "a2b68084-038f-4c81-8bb3-dc6be11168ba",
   "metadata": {},
   "outputs": [
    {
     "data": {
      "text/plain": [
       "'\\n#### ##  ### ##     ##      ## ##   ##  ###  ### ##   ##  ##      `|||||`\\n# ## ##   ##  ##     ##    ##   ##  ##  ##    ##  ##  ##  ##   ~|||  .  |||~~\\n  ##      ##  ##   ## ##   ##       ## ##     ##  ##  ##  ##   || .  __   ||\\n  ##      ## ##    ##  ##  ##       ## ##     ##  ##   ## ##   ~||  |++| . ||~\\n  ##      ## ##    ## ###  ##       ## ###    ## ##     ##     `||.  --    ||\\n  ##      ##  ##   ##  ##  ##   ##  ##  ##    ##        ##      `|| .  .  ||~~\\n ####    #### ##  ###  ##   ## ##   ##  ###  ####       ##        `|||||||`\\n        '"
      ]
     },
     "execution_count": 12,
     "metadata": {},
     "output_type": "execute_result"
    }
   ],
   "source": [
    "root = tk.Tk()\n",
    "root.withdraw()\n",
    "filepath = fd.askopenfilename()\n",
    "root.destroy()\n",
    "if filepath[-4:] == '.nd2':\n",
    "    # Handle nikon filetypes\n",
    "    handler = menu.Handler(nd2.imread(filepath))\n",
    "else:\n",
    "    handler = menu.Handler(pims.open(filepath))"
   ]
  },
  {
   "cell_type": "markdown",
   "id": "62259383-e718-4b51-bf13-213343cba5e1",
   "metadata": {},
   "source": [
    "Now, hopefully the \"handler\" variable has captured the image stack and holds it in memory. We can now proceed with downstream processes if it was successful."
   ]
  },
  {
   "cell_type": "code",
   "execution_count": null,
   "id": "5d6a8aed-64f5-4a5c-a24c-79cafabfd946",
   "metadata": {},
   "outputs": [],
   "source": []
  }
 ],
 "metadata": {
  "kernelspec": {
   "display_name": "Python 3 (ipykernel)",
   "language": "python",
   "name": "python3"
  },
  "language_info": {
   "codemirror_mode": {
    "name": "ipython",
    "version": 3
   },
   "file_extension": ".py",
   "mimetype": "text/x-python",
   "name": "python",
   "nbconvert_exporter": "python",
   "pygments_lexer": "ipython3",
   "version": "3.10.4"
  }
 },
 "nbformat": 4,
 "nbformat_minor": 5
}
